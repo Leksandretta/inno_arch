{
  "nbformat": 4,
  "nbformat_minor": 0,
  "metadata": {
    "colab": {
      "provenance": [],
      "mount_file_id": "1vUr4rRLGLKP5-S68oONyZ06oUt7O4QW6",
      "authorship_tag": "ABX9TyO8aAWlokShrCueWVXfmCIY",
      "include_colab_link": true
    },
    "kernelspec": {
      "name": "python3",
      "display_name": "Python 3"
    },
    "language_info": {
      "name": "python"
    }
  },
  "cells": [
    {
      "cell_type": "markdown",
      "metadata": {
        "id": "view-in-github",
        "colab_type": "text"
      },
      "source": [
        "<a href=\"https://colab.research.google.com/github/Leksandretta/inno_arch/blob/main/bot.ipynb\" target=\"_parent\"><img src=\"https://colab.research.google.com/assets/colab-badge.svg\" alt=\"Open In Colab\"/></a>"
      ]
    },
    {
      "cell_type": "code",
      "execution_count": 1,
      "metadata": {
        "id": "hDnJydwwp0Lt",
        "colab": {
          "base_uri": "https://localhost:8080/"
        },
        "outputId": "35c50909-c95d-45ac-9bde-8076f521f67e"
      },
      "outputs": [
        {
          "output_type": "stream",
          "name": "stdout",
          "text": [
            "Requirement already satisfied: pytelegrambotapi in /usr/local/lib/python3.10/dist-packages (4.23.0)\n",
            "Requirement already satisfied: requests in /usr/local/lib/python3.10/dist-packages (from pytelegrambotapi) (2.32.3)\n",
            "Requirement already satisfied: charset-normalizer<4,>=2 in /usr/local/lib/python3.10/dist-packages (from requests->pytelegrambotapi) (3.4.0)\n",
            "Requirement already satisfied: idna<4,>=2.5 in /usr/local/lib/python3.10/dist-packages (from requests->pytelegrambotapi) (3.10)\n",
            "Requirement already satisfied: urllib3<3,>=1.21.1 in /usr/local/lib/python3.10/dist-packages (from requests->pytelegrambotapi) (2.2.3)\n",
            "Requirement already satisfied: certifi>=2017.4.17 in /usr/local/lib/python3.10/dist-packages (from requests->pytelegrambotapi) (2024.8.30)\n",
            "Requirement already satisfied: ipynb in /usr/local/lib/python3.10/dist-packages (0.5.1)\n",
            "Requirement already satisfied: import-ipynb in /usr/local/lib/python3.10/dist-packages (0.2)\n",
            "Requirement already satisfied: IPython in /usr/local/lib/python3.10/dist-packages (from import-ipynb) (7.34.0)\n",
            "Requirement already satisfied: nbformat in /usr/local/lib/python3.10/dist-packages (from import-ipynb) (5.10.4)\n",
            "Requirement already satisfied: setuptools>=18.5 in /usr/local/lib/python3.10/dist-packages (from IPython->import-ipynb) (75.1.0)\n",
            "Requirement already satisfied: jedi>=0.16 in /usr/local/lib/python3.10/dist-packages (from IPython->import-ipynb) (0.19.1)\n",
            "Requirement already satisfied: decorator in /usr/local/lib/python3.10/dist-packages (from IPython->import-ipynb) (4.4.2)\n",
            "Requirement already satisfied: pickleshare in /usr/local/lib/python3.10/dist-packages (from IPython->import-ipynb) (0.7.5)\n",
            "Requirement already satisfied: traitlets>=4.2 in /usr/local/lib/python3.10/dist-packages (from IPython->import-ipynb) (5.7.1)\n",
            "Requirement already satisfied: prompt-toolkit!=3.0.0,!=3.0.1,<3.1.0,>=2.0.0 in /usr/local/lib/python3.10/dist-packages (from IPython->import-ipynb) (3.0.48)\n",
            "Requirement already satisfied: pygments in /usr/local/lib/python3.10/dist-packages (from IPython->import-ipynb) (2.18.0)\n",
            "Requirement already satisfied: backcall in /usr/local/lib/python3.10/dist-packages (from IPython->import-ipynb) (0.2.0)\n",
            "Requirement already satisfied: matplotlib-inline in /usr/local/lib/python3.10/dist-packages (from IPython->import-ipynb) (0.1.7)\n",
            "Requirement already satisfied: pexpect>4.3 in /usr/local/lib/python3.10/dist-packages (from IPython->import-ipynb) (4.9.0)\n",
            "Requirement already satisfied: fastjsonschema>=2.15 in /usr/local/lib/python3.10/dist-packages (from nbformat->import-ipynb) (2.20.0)\n",
            "Requirement already satisfied: jsonschema>=2.6 in /usr/local/lib/python3.10/dist-packages (from nbformat->import-ipynb) (4.23.0)\n",
            "Requirement already satisfied: jupyter-core!=5.0.*,>=4.12 in /usr/local/lib/python3.10/dist-packages (from nbformat->import-ipynb) (5.7.2)\n",
            "Requirement already satisfied: parso<0.9.0,>=0.8.3 in /usr/local/lib/python3.10/dist-packages (from jedi>=0.16->IPython->import-ipynb) (0.8.4)\n",
            "Requirement already satisfied: attrs>=22.2.0 in /usr/local/lib/python3.10/dist-packages (from jsonschema>=2.6->nbformat->import-ipynb) (24.2.0)\n",
            "Requirement already satisfied: jsonschema-specifications>=2023.03.6 in /usr/local/lib/python3.10/dist-packages (from jsonschema>=2.6->nbformat->import-ipynb) (2024.10.1)\n",
            "Requirement already satisfied: referencing>=0.28.4 in /usr/local/lib/python3.10/dist-packages (from jsonschema>=2.6->nbformat->import-ipynb) (0.35.1)\n",
            "Requirement already satisfied: rpds-py>=0.7.1 in /usr/local/lib/python3.10/dist-packages (from jsonschema>=2.6->nbformat->import-ipynb) (0.20.0)\n",
            "Requirement already satisfied: platformdirs>=2.5 in /usr/local/lib/python3.10/dist-packages (from jupyter-core!=5.0.*,>=4.12->nbformat->import-ipynb) (4.3.6)\n",
            "Requirement already satisfied: ptyprocess>=0.5 in /usr/local/lib/python3.10/dist-packages (from pexpect>4.3->IPython->import-ipynb) (0.7.0)\n",
            "Requirement already satisfied: wcwidth in /usr/local/lib/python3.10/dist-packages (from prompt-toolkit!=3.0.0,!=3.0.1,<3.1.0,>=2.0.0->IPython->import-ipynb) (0.2.13)\n"
          ]
        }
      ],
      "source": [
        "!pip3 install pytelegrambotapi\n",
        "!pip3 install ipynb\n",
        "!pip3 install import-ipynb\n",
        "\n",
        "import import_ipynb\n",
        "import time\n",
        "import pandas as pd\n",
        "import telebot\n",
        "from google.colab import drive\n",
        "\n",
        "from sklearn.linear_model import LogisticRegression\n",
        "import csv"
      ]
    },
    {
      "cell_type": "code",
      "source": [
        "%cd /content/drive/MyDrive/Colab"
      ],
      "metadata": {
        "colab": {
          "base_uri": "https://localhost:8080/"
        },
        "id": "jkKxIozxnBwU",
        "outputId": "4631f129-994c-415a-ecff-62d01002bd92"
      },
      "execution_count": 3,
      "outputs": [
        {
          "output_type": "stream",
          "name": "stdout",
          "text": [
            "/content/drive/MyDrive/Colab\n"
          ]
        }
      ]
    },
    {
      "cell_type": "code",
      "source": [
        "def company(company_data):\n",
        "    train = pd.read_csv('/content/dataTRAIN.csv')\n",
        "    test = pd.read_csv('/content/dataTEST.csv')\n",
        "\n",
        "    with open('/content/dataTEST.csv', 'a') as fp:\n",
        "        wr = csv.writer(fp, dialect='excel')\n",
        "        wr.writerow(company_data)\n",
        "\n",
        "    train.drop(['id','name', 'INN'], axis = 1, inplace = True)\n",
        "    X_train = train.drop('status', axis = 1)\n",
        "    y_train = train['status']\n",
        "    model = LogisticRegression()\n",
        "    model.fit(X_train, y_train)\n",
        "    y_pred_train = model.predict(X_train)\n",
        "\n",
        "    test = pd.read_csv('/content/dataTEST.csv')\n",
        "    test2 = test['id'].copy()\n",
        "    test.drop(['id','name', 'INN'], axis = 1, inplace = True)\n",
        "    y_pred_test = model.predict(test)\n",
        "    result = pd.DataFrame({'id': test2, 'status': y_pred_test})\n",
        "    result.to_csv('/content/result.csv', sep=\",\", index = False)\n",
        "\n",
        "    return (result[len(result)-1:]['status'])\n",
        "    print(result)"
      ],
      "metadata": {
        "id": "XDfNf0Z0y7FR"
      },
      "execution_count": 4,
      "outputs": []
    },
    {
      "cell_type": "code",
      "source": [
        "bot = telebot.TeleBot('7900613999:AAGvrmLZiChJKNLEM5Ki4itizt7ZlMNj73U')\n",
        "\n",
        "@bot.message_handler(commands=['start'])\n",
        "def welcome(message):\n",
        "    bot.send_message(message.chat.id, 'Для получения информации о возможности заключения '\n",
        "                                      'государственного контракта укажите: Количество ранее заключенных договоров, '\n",
        "                                      'Сколько договоров из них исполнено, Сколько договоров из них не исполнено,'\n",
        "                                      'Является ли компания субъектом МСП (1-да, 0-нет), '\n",
        "                                      'Является ли компания государственной (1-да, 0-нет)')\n",
        "\n",
        "@bot.message_handler(content_types=['text'])\n",
        "def answer(message):\n",
        "    bot.send_message(message.chat.id, 'Анализируем...')\n",
        "    user_data = message.text.split()\n",
        "    user_data.insert(0, 0)\n",
        "    user_data.insert(4, 'N')\n",
        "    user_data.insert(5, '7718556679')\n",
        "\n",
        "    answer = company(user_data)\n",
        "    if int(answer) == 1:\n",
        "        bot.send_message(message.chat.id, 'Поставщик надежный. Рекомендация: заключать контракт.')\n",
        "    elif int(answer) == 0:\n",
        "        bot.send_message(message.chat.id, 'Поставщик ненадежный. Рекомендация: не заключать контракт.')\n",
        "\n",
        "    do_again(message)\n",
        "\n",
        "def do_again(message):\n",
        "    bot.send_message(message.chat.id, 'Проверить кого-нибудь еще?')\n",
        "\n",
        "if __name__ == '__main__':\n",
        "    while True:\n",
        "        try:\n",
        "            bot.polling(none_stop=True)\n",
        "        except ():\n",
        "            time.sleep(5)"
      ],
      "metadata": {
        "id": "yTaeEVZnrC38",
        "colab": {
          "base_uri": "https://localhost:8080/"
        },
        "outputId": "27b25a05-98ce-41de-f358-927791e8a01b"
      },
      "execution_count": null,
      "outputs": [
        {
          "output_type": "stream",
          "name": "stderr",
          "text": [
            "<ipython-input-5-325353f8ed10>:20: FutureWarning: Calling int on a single element Series is deprecated and will raise a TypeError in the future. Use int(ser.iloc[0]) instead\n",
            "  if int(answer) == 1:\n",
            "<ipython-input-5-325353f8ed10>:22: FutureWarning: Calling int on a single element Series is deprecated and will raise a TypeError in the future. Use int(ser.iloc[0]) instead\n",
            "  elif int(answer) == 0:\n"
          ]
        }
      ]
    }
  ]
}